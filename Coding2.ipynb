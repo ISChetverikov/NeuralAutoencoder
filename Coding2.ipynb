{
 "cells": [
  {
   "cell_type": "code",
   "execution_count": 138,
   "metadata": {},
   "outputs": [],
   "source": [
    "import numpy as np\n",
    "import tensorflow as tf\n",
    "import keras.backend as K\n",
    "import keras as ker\n",
    "from keras.layers import Input, Dense, Flatten, Reshape, GaussianNoise, Activation, Subtract\n",
    "from keras.layers import LSTM, GRU, SimpleRNN, TimeDistributed, Multiply, Add, Concatenate, LayerNormalization, Lambda\n",
    "from keras.layers.normalization import BatchNormalization\n",
    "from keras.layers.wrappers import  Bidirectional\n",
    "from keras.models import Model\n",
    "\n",
    "\n",
    "%matplotlib inline\n",
    "import seaborn as sns\n",
    "import matplotlib.pyplot as plt"
   ]
  },
  {
   "cell_type": "code",
   "execution_count": null,
   "metadata": {},
   "outputs": [],
   "source": []
  },
  {
   "cell_type": "code",
   "execution_count": null,
   "metadata": {},
   "outputs": [],
   "source": []
  },
  {
   "cell_type": "code",
   "execution_count": null,
   "metadata": {},
   "outputs": [],
   "source": []
  },
  {
   "cell_type": "code",
   "execution_count": null,
   "metadata": {},
   "outputs": [],
   "source": []
  },
  {
   "cell_type": "code",
   "execution_count": null,
   "metadata": {},
   "outputs": [],
   "source": []
  },
  {
   "cell_type": "code",
   "execution_count": null,
   "metadata": {},
   "outputs": [],
   "source": []
  },
  {
   "cell_type": "code",
   "execution_count": null,
   "metadata": {},
   "outputs": [],
   "source": [
    "# start to learn code\n",
    "def create_fcnn_model(encoding_dim, input_dim, sigma):\n",
    "    # step activation\n",
    "    def bpsk_activation(x):\n",
    "        return K.sign(x - 0.5)\n",
    "    \n",
    "    def step_activation(x):\n",
    "        return K.sign(x)\n",
    "    \n",
    "    # Энкодер\n",
    "    input_layer = Input(shape=(input_dim,))\n",
    "    x = Dense(encoding_dim*3, activation='relu')(input_layer)\n",
    "    x = Dense(encoding_dim*2, activation='relu')(x)\n",
    "    x = Dense(encoding_dim, activation='sigmoid')(x)\n",
    "    \n",
    "    # BPSK\n",
    "    # encoded = Activation(bpsk_activation)(x)\n",
    "    \n",
    "    # Noise\n",
    "    input_noise = Input(shape=(encoding_dim,))\n",
    "    noised = GaussianNoise(sigma)(input_noise, training=True)\n",
    "    \n",
    "    # Декодер\n",
    "    input_encoded = Input(shape=(encoding_dim,))\n",
    "    x = Dense(encoding_dim * 2, activation='relu')(input_encoded)\n",
    "    x = Dense(encoding_dim * 3, activation='relu')(x)\n",
    "    decoded = Dense(input_dim, activation='sigmoid')(x)\n",
    "    \n",
    "    # Модели\n",
    "    encoder = Model(input_layer, encoded, name=\"encoder\")\n",
    "    noise = Model(input_noise, noised, name = \"noise\");\n",
    "    decoder = Model(input_encoded, decoded, name=\"decoder\")\n",
    "    autoencoder = Model(input_layer, decoder(noise(encoder(input_layer))), name=\"autoencoder\")\n",
    "    return encoder, decoder, autoencoder, noise\n"
   ]
  },
  {
   "cell_type": "code",
   "execution_count": 2,
   "metadata": {},
   "outputs": [],
   "source": [
    "def int2bits(i, padding):\n",
    "    return np.array(list(bin(i)[2:].zfill(padding)), dtype=int) "
   ]
  },
  {
   "cell_type": "code",
   "execution_count": 3,
   "metadata": {},
   "outputs": [],
   "source": [
    "def ber(X_pred, X_train):\n",
    "    \n",
    "    l = ( X_pred == X_train).sum()\n",
    "    \n",
    "    n = X_train.shape[0] * X_train.shape[1]\n",
    "\n",
    "    return 1 - l / n"
   ]
  },
  {
   "cell_type": "code",
   "execution_count": 4,
   "metadata": {},
   "outputs": [],
   "source": [
    "def hard(arr, threshold=0.5):\n",
    "    return arr > threshold "
   ]
  },
  {
   "cell_type": "code",
   "execution_count": 5,
   "metadata": {},
   "outputs": [],
   "source": [
    "def get_sigma(snr):\n",
    "    return 10 ** (-snr * 1.0/20)"
   ]
  },
  {
   "cell_type": "code",
   "execution_count": null,
   "metadata": {},
   "outputs": [],
   "source": []
  },
  {
   "cell_type": "code",
   "execution_count": null,
   "metadata": {},
   "outputs": [],
   "source": []
  },
  {
   "cell_type": "code",
   "execution_count": null,
   "metadata": {},
   "outputs": [],
   "source": []
  },
  {
   "cell_type": "code",
   "execution_count": 145,
   "metadata": {},
   "outputs": [
    {
     "name": "stdout",
     "output_type": "stream",
     "text": [
      "Model: \"encoder\"\n",
      "_________________________________________________________________\n",
      "Layer (type)                 Output Shape              Param #   \n",
      "=================================================================\n",
      "input_75 (InputLayer)        [(None, 10, 1)]           0         \n",
      "_________________________________________________________________\n",
      "enc_gru_1 (GRU)              (None, 10, 25)            2100      \n",
      "_________________________________________________________________\n",
      "enc_gru_2 (GRU)              (None, 10, 25)            3900      \n",
      "_________________________________________________________________\n",
      "dense_40 (Dense)             (None, 10, 2)             52        \n",
      "_________________________________________________________________\n",
      "lambda_2 (Lambda)            (None, 10, 2)             0         \n",
      "=================================================================\n",
      "Total params: 6,052\n",
      "Trainable params: 6,052\n",
      "Non-trainable params: 0\n",
      "_________________________________________________________________\n",
      "Model: \"noise\"\n",
      "_________________________________________________________________\n",
      "Layer (type)                 Output Shape              Param #   \n",
      "=================================================================\n",
      "input_76 (InputLayer)        [(None, 10, 2)]           0         \n",
      "_________________________________________________________________\n",
      "gaussian_noise_18 (GaussianN (None, 10, 2)             0         \n",
      "=================================================================\n",
      "Total params: 0\n",
      "Trainable params: 0\n",
      "Non-trainable params: 0\n",
      "_________________________________________________________________\n",
      "Model: \"decoder\"\n",
      "__________________________________________________________________________________________________\n",
      "Layer (type)                    Output Shape         Param #     Connected to                     \n",
      "==================================================================================================\n",
      "input_77 (InputLayer)           [(None, 10, 2)]      0                                            \n",
      "__________________________________________________________________________________________________\n",
      "dec_gru_11 (GRU)                (None, 10, 100)      31200       input_77[0][0]                   \n",
      "__________________________________________________________________________________________________\n",
      "dec_gru_21 (GRU)                (None, 10, 100)      31200       input_77[0][0]                   \n",
      "__________________________________________________________________________________________________\n",
      "dec_gru_12 (GRU)                (None, 10, 100)      60600       dec_gru_11[0][0]                 \n",
      "__________________________________________________________________________________________________\n",
      "dec_gru_22 (GRU)                (None, 10, 100)      60600       dec_gru_21[0][0]                 \n",
      "__________________________________________________________________________________________________\n",
      "concatenate_18 (Concatenate)    (None, 10, 200)      0           dec_gru_12[0][0]                 \n",
      "                                                                 dec_gru_22[0][0]                 \n",
      "__________________________________________________________________________________________________\n",
      "dense_41 (Dense)                (None, 10, 1)        201         concatenate_18[0][0]             \n",
      "==================================================================================================\n",
      "Total params: 183,801\n",
      "Trainable params: 183,801\n",
      "Non-trainable params: 0\n",
      "__________________________________________________________________________________________________\n",
      "Epoch 1/50\n",
      "8/8 [==============================] - 0s 35ms/step - loss: 0.6734\n",
      "Epoch 2/50\n",
      "8/8 [==============================] - 0s 36ms/step - loss: 0.5894\n",
      "Epoch 3/50\n",
      "8/8 [==============================] - 0s 35ms/step - loss: 0.4692\n",
      "Epoch 4/50\n",
      "8/8 [==============================] - 0s 39ms/step - loss: 0.3153\n",
      "Epoch 5/50\n",
      "8/8 [==============================] - 0s 39ms/step - loss: 0.2080\n",
      "Epoch 6/50\n",
      "8/8 [==============================] - 0s 35ms/step - loss: 0.1559\n",
      "Epoch 7/50\n",
      "8/8 [==============================] - 0s 37ms/step - loss: 0.1284\n",
      "Epoch 8/50\n",
      "8/8 [==============================] - 0s 36ms/step - loss: 0.1251\n",
      "Epoch 9/50\n",
      "8/8 [==============================] - 0s 37ms/step - loss: 0.1055\n",
      "Epoch 10/50\n",
      "8/8 [==============================] - 0s 36ms/step - loss: 0.1123\n",
      "Epoch 11/50\n",
      "8/8 [==============================] - 0s 39ms/step - loss: 0.1061\n",
      "Epoch 12/50\n",
      "8/8 [==============================] - 0s 37ms/step - loss: 0.1092\n",
      "Epoch 13/50\n",
      "8/8 [==============================] - 0s 38ms/step - loss: 0.1130\n",
      "Epoch 14/50\n",
      "8/8 [==============================] - 0s 37ms/step - loss: 0.1033\n",
      "Epoch 15/50\n",
      "8/8 [==============================] - 0s 37ms/step - loss: 0.1112\n",
      "Epoch 16/50\n",
      "8/8 [==============================] - 0s 38ms/step - loss: 0.1079\n",
      "Epoch 17/50\n",
      "8/8 [==============================] - 0s 37ms/step - loss: 0.1004\n",
      "Epoch 18/50\n",
      "8/8 [==============================] - 0s 40ms/step - loss: 0.0959\n",
      "Epoch 19/50\n",
      "8/8 [==============================] - 0s 39ms/step - loss: 0.1057\n",
      "Epoch 20/50\n",
      "8/8 [==============================] - 0s 36ms/step - loss: 0.1026\n",
      "Epoch 21/50\n",
      "8/8 [==============================] - 0s 36ms/step - loss: 0.0998\n",
      "Epoch 22/50\n",
      "8/8 [==============================] - 0s 39ms/step - loss: 0.1019\n",
      "Epoch 23/50\n",
      "8/8 [==============================] - 0s 40ms/step - loss: 0.1116\n",
      "Epoch 24/50\n",
      "8/8 [==============================] - 0s 36ms/step - loss: 0.1055\n",
      "Epoch 25/50\n",
      "8/8 [==============================] - 0s 46ms/step - loss: 0.0994\n",
      "Epoch 26/50\n",
      "8/8 [==============================] - 0s 51ms/step - loss: 0.1020\n",
      "Epoch 27/50\n",
      "8/8 [==============================] - 0s 40ms/step - loss: 0.1107\n",
      "Epoch 28/50\n",
      "8/8 [==============================] - 0s 35ms/step - loss: 0.1033\n",
      "Epoch 29/50\n",
      "8/8 [==============================] - 0s 44ms/step - loss: 0.1038\n",
      "Epoch 30/50\n",
      "8/8 [==============================] - 0s 49ms/step - loss: 0.1073\n",
      "Epoch 31/50\n",
      "8/8 [==============================] - 0s 50ms/step - loss: 0.0999\n",
      "Epoch 32/50\n",
      "8/8 [==============================] - 0s 48ms/step - loss: 0.1114\n",
      "Epoch 33/50\n",
      "8/8 [==============================] - 0s 41ms/step - loss: 0.1062\n",
      "Epoch 34/50\n",
      "8/8 [==============================] - 0s 44ms/step - loss: 0.1050\n",
      "Epoch 35/50\n",
      "8/8 [==============================] - 0s 40ms/step - loss: 0.1070\n",
      "Epoch 36/50\n",
      "8/8 [==============================] - 0s 39ms/step - loss: 0.1041\n",
      "Epoch 37/50\n",
      "8/8 [==============================] - 0s 34ms/step - loss: 0.1064\n",
      "Epoch 38/50\n",
      "8/8 [==============================] - 0s 42ms/step - loss: 0.1040\n",
      "Epoch 39/50\n",
      "8/8 [==============================] - 0s 39ms/step - loss: 0.1045\n",
      "Epoch 40/50\n",
      "8/8 [==============================] - 0s 43ms/step - loss: 0.1006\n",
      "Epoch 41/50\n",
      "8/8 [==============================] - 0s 41ms/step - loss: 0.1051\n",
      "Epoch 42/50\n",
      "8/8 [==============================] - 0s 38ms/step - loss: 0.0999\n",
      "Epoch 43/50\n",
      "8/8 [==============================] - 0s 35ms/step - loss: 0.1052\n",
      "Epoch 44/50\n",
      "8/8 [==============================] - 0s 38ms/step - loss: 0.1039\n",
      "Epoch 45/50\n",
      "8/8 [==============================] - 0s 37ms/step - loss: 0.1009\n",
      "Epoch 46/50\n",
      "8/8 [==============================] - 0s 33ms/step - loss: 0.1001\n",
      "Epoch 47/50\n",
      "8/8 [==============================] - 0s 35ms/step - loss: 0.0987\n",
      "Epoch 48/50\n",
      "8/8 [==============================] - 0s 36ms/step - loss: 0.1013\n",
      "Epoch 49/50\n",
      "8/8 [==============================] - 0s 35ms/step - loss: 0.1059\n",
      "Epoch 50/50\n",
      "8/8 [==============================] - 0s 35ms/step - loss: 0.1017\n"
     ]
    }
   ],
   "source": [
    "# LEARN\n",
    "# start to learn code\n",
    "def create_gru_model(coderate, input_dim, sigma):\n",
    "    # step activation\n",
    "    def bpsk_activation(x):\n",
    "        return K.sign(x - 0.5)\n",
    "    \n",
    "    def scale_activation(x):\n",
    "        return 2 * (x - 0.5)\n",
    "    \n",
    "    def normalize(x):\n",
    "        x_mean, x_var = tf.nn.moments(x, [0])\n",
    "        x = (x - x_mean)*1.0 / tf.sqrt(x_var)\n",
    "        \n",
    "        return x\n",
    "    \n",
    "    enc_gru_units = 25\n",
    "    dec_gru_units = 100\n",
    "    # Энкодер\n",
    "    x = Input(shape=(input_dim, 1))\n",
    "    gru_enc1 = GRU(name='enc_gru_1', units=enc_gru_units, activation='tanh', return_sequences=True)\n",
    "    gru_enc2 = GRU(name='enc_gru_2', units=enc_gru_units, activation='tanh', return_sequences=True)\n",
    "    output_enc = Dense(coderate, activation='linear')\n",
    "    norm = Lambda(normalize)\n",
    "    \n",
    "    encoded = norm(output_enc(gru_enc2(gru_enc1(x))))\n",
    "    # BPSK\n",
    "    # encoded = Activation(bpsk_activation)(encoded)\n",
    "    #encoded = Activation(scale_activation)(encoded)\n",
    "    # Noise\n",
    "    input_noise = Input(shape=(input_dim, coderate))\n",
    "    # noise = GaussianNoise(sigma)(K.zeros(shape=(input_dim, coderate)), training=True)\n",
    "    # noised = Add()([input_noise, noise])\n",
    "    noised = GaussianNoise(sigma)(input_noise, training=True)\n",
    "    \n",
    "    # Декодер\n",
    "    y = Input(shape=(input_dim, coderate))\n",
    "    gru_dec11 = GRU(name='dec_gru_11', units=dec_gru_units, activation='tanh', return_sequences=True)\n",
    "    gru_dec12 = GRU(name='dec_gru_12', units=dec_gru_units, activation='tanh', return_sequences=True)\n",
    "    gru_dec21 = GRU(name='dec_gru_21', units=dec_gru_units, activation='tanh', return_sequences=True)\n",
    "    gru_dec22 = GRU(name='dec_gru_22', units=dec_gru_units, activation='tanh', return_sequences=True)\n",
    "    concat = Concatenate(axis=2)\n",
    "    output_dec = Dense(1, activation='sigmoid')\n",
    "    \n",
    "    one = gru_dec12(gru_dec11(y))\n",
    "    two = gru_dec22(gru_dec21(y))\n",
    "    decoded = output_dec(concat([one, two]))\n",
    "    \n",
    "    # Модели\n",
    "    encoder = Model(x, encoded, name=\"encoder\")\n",
    "    encoder.summary()\n",
    "    noise = Model(input_noise, noised, name = \"noise\");\n",
    "    noise.summary()\n",
    "    decoder = Model(y, decoded, name=\"decoder\")\n",
    "    decoder.summary()\n",
    "    autoencoder = Model(x, decoder(noise(encoder(x))), name=\"autoencoder\")\n",
    "    return encoder, decoder, autoencoder, noise\n",
    "\n",
    "coderate = 2\n",
    "k = 10\n",
    "total_count = 2 ** k;\n",
    "sigma = get_sigma(2)\n",
    "\n",
    "X_train = np.array([int2bits(i, k) for i in range(total_count)])\n",
    "X_train = X_train.reshape((total_count, k, 1))\n",
    "enc, dec, autoencoder, noise = create_gru_model(coderate, k, sigma)\n",
    "\n",
    "autoencoder.compile(optimizer='adam', loss='binary_crossentropy')\n",
    "autoencoder.fit(X_train, X_train,\n",
    "                epochs=50,\n",
    "                batch_size=128,\n",
    "                shuffle=True)\n",
    "\n",
    "X_pred = autoencoder.predict(X_train)"
   ]
  },
  {
   "cell_type": "code",
   "execution_count": 45,
   "metadata": {},
   "outputs": [
    {
     "data": {
      "text/plain": [
       "0.48720703125"
      ]
     },
     "execution_count": 45,
     "metadata": {},
     "output_type": "execute_result"
    }
   ],
   "source": [
    "ber(hard(X_pred), X_train)"
   ]
  },
  {
   "cell_type": "code",
   "execution_count": 11,
   "metadata": {},
   "outputs": [],
   "source": [
    "\n",
    "\n",
    "def simulate_sigma(k, enc, dec, sigma, batch_count=100, batch_size=256):\n",
    "    err = 0.0;\n",
    "    for i in range(batch_count):\n",
    "        X = np.random.randint(2, size=(batch_size, k, 1))\n",
    "       \n",
    "        Y = enc.predict(X)\n",
    "        Y_noised= Y + np.random.normal(loc=0.0, scale=sigma, size=Y.shape)\n",
    "        X_pred = dec.predict(Y_noised)\n",
    "        err += ber(hard(X_pred), X)\n",
    "        \n",
    "    err /= batch_count\n",
    "    return err\n",
    "\n",
    "def simulate_model_fixed_snr(k, enc, dec, snr_arr):\n",
    "    ber_arr = []\n",
    "    for snr in snr_arr:\n",
    "        sigma = get_sigma(snr)\n",
    "        err = simulate_sigma(k, enc, dec, sigma)\n",
    "        ber_arr.append(err)\n",
    "    \n",
    "    return ber_arr\n"
   ]
  },
  {
   "cell_type": "code",
   "execution_count": 140,
   "metadata": {},
   "outputs": [],
   "source": [
    "snr_arr = [0, 1, 2, 3, 4]\n",
    "ber_fixed_arr = simulate_model_fixed_snr(k, enc, dec, snr_arr)"
   ]
  },
  {
   "cell_type": "code",
   "execution_count": null,
   "metadata": {},
   "outputs": [],
   "source": []
  },
  {
   "cell_type": "code",
   "execution_count": 58,
   "metadata": {},
   "outputs": [],
   "source": [
    "def simulate_repetition_sigma(k, coderate, sigma):\n",
    "    batch_size = 256\n",
    "    batch_count = 100\n",
    "    \n",
    "    err = 0.0\n",
    "    for i in range(batch_count):\n",
    "        X = np.random.randint(2, size=(batch_size, k, 1))\n",
    "        rep = np.ones(shape=(coderate, 1))\n",
    "        Y = np.kron(X, rep)\n",
    "        Y[Y == 0] = -1\n",
    "        Y_noised = Y + np.random.normal(loc=0.0, scale=sigma, size=Y.shape)\n",
    "        \n",
    "        # decoding\n",
    "        X_pred = np.zeros(shape=(batch_size, k, 1))\n",
    "        for j in range(batch_size):\n",
    "            for l in range(k):\n",
    "                temp = 0.0\n",
    "                for t in range(coderate):\n",
    "                    temp += Y_noised[j, l * coderate + t, 0]\n",
    "                X_pred[j, l, 0] = 1 if temp > 0 else 0\n",
    "        \n",
    "        err += ber(X_pred, X)\n",
    "    err /= batch_count\n",
    "    return err\n",
    "\n",
    "def simulate_repetition(k, coderate, snr_arr):\n",
    "    ber_arr = []\n",
    "    for snr in snr_arr:\n",
    "        sigma = get_sigma(snr)\n",
    "        err = simulate_repetition_sigma(k, coderate, sigma)\n",
    "        ber_arr.append(err)\n",
    "    \n",
    "    return ber_arr\n",
    "\n",
    "rep_arr = simulate_repetition(k, coderate, snr_arr)"
   ]
  },
  {
   "cell_type": "code",
   "execution_count": 146,
   "metadata": {},
   "outputs": [
    {
     "data": {
      "image/png": "[encoded data removed]",
      "text/plain": [
       "<Figure size 720x576 with 1 Axes>"
      ]
     },
     "metadata": {
      "needs_background": "light"
     },
     "output_type": "display_data"
    }
   ],
   "source": [
    "plt.figure(figsize=(10,8))\n",
    "plt.plot(snr_arr, ber_fixed_arr, '-o', snr_arr, rep_arr, '-D');\n",
    "plt.title(\"Autoencoder\")\n",
    "plt.xlabel(\"SNR\")\n",
    "plt.grid(True)\n",
    "plt.ylabel(\"BER\")\n",
    "plt.yscale('log')\n",
    "plt.xscale('linear')"
   ]
  },
  {
   "cell_type": "code",
   "execution_count": 143,
   "metadata": {},
   "outputs": [
    {
     "name": "stdout",
     "output_type": "stream",
     "text": [
      "tf.Tensor(\n",
      "[[nan nan]\n",
      " [nan nan]\n",
      " [nan nan]\n",
      " [nan nan]\n",
      " [nan nan]\n",
      " [nan nan]\n",
      " [nan nan]\n",
      " [nan nan]\n",
      " [nan nan]\n",
      " [nan nan]], shape=(10, 2), dtype=float32)\n",
      "-nan\n"
     ]
    }
   ],
   "source": [
    "v = enc.predict(int2bits(234, k).reshape(1, k, 1))[0,:,:]\n",
    "\n",
    "e = tf.constant(v, dtype=float)\n",
    "print(e)\n",
    "x_mean, x_var = tf.nn.moments(e, [0, 1])\n",
    "tf.print(x_var)"
   ]
  },
  {
   "cell_type": "code",
   "execution_count": 81,
   "metadata": {},
   "outputs": [
    {
     "name": "stdout",
     "output_type": "stream",
     "text": [
      "[[-1.46385 -0.87831]\n",
      " [-0.29277 0.29277]\n",
      " [0.87831 1.46385]]\n"
     ]
    },
    {
     "data": {
      "text/plain": [
       "2.4494896"
      ]
     },
     "execution_count": 81,
     "metadata": {},
     "output_type": "execute_result"
    }
   ],
   "source": [
    "x = tf.constant([[1,2],[3,4],[5,6]], dtype=float)\n",
    "x_mean, x_var = tf.nn.moments(x,[0, 1])\n",
    "x = (x-x_mean)*1.0/tf.sqrt(x_var)\n",
    "\n",
    "tf.print(x)\n",
    "np.linalg.norm(x)"
   ]
  },
  {
   "cell_type": "code",
   "execution_count": 118,
   "metadata": {},
   "outputs": [
    {
     "name": "stdout",
     "output_type": "stream",
     "text": [
      "[[-1.46359921 -0.878159523]\n",
      " [-0.292719841 0.292719841]\n",
      " [0.878159523 1.46359921]]\n",
      "[0.913972318 0.913972318]\n"
     ]
    }
   ],
   "source": [
    "s = tf.constant([[1,2],[3,4],[5,6]], dtype=float)\n",
    "\n",
    "\n",
    "norm = LayerNormalization(axis=[0, 1])\n",
    "o = norm(s)\n",
    "tf.print(norm(s))\n",
    "x_mean, x_var = tf.nn.moments(o, [0])\n",
    "tf.print(x_var)"
   ]
  },
  {
   "cell_type": "code",
   "execution_count": 130,
   "metadata": {},
   "outputs": [
    {
     "name": "stdout",
     "output_type": "stream",
     "text": [
      "Model: \"encoder22\"\n",
      "_________________________________________________________________\n",
      "Layer (type)                 Output Shape              Param #   \n",
      "=================================================================\n",
      "input_61 (InputLayer)        [(None, 3, 2)]            0         \n",
      "_________________________________________________________________\n",
      "layer_normalization_31 (Laye (None, 3, 2)              12        \n",
      "=================================================================\n",
      "Total params: 12\n",
      "Trainable params: 12\n",
      "Non-trainable params: 0\n",
      "_________________________________________________________________\n"
     ]
    },
    {
     "data": {
      "text/plain": [
       "0.99982864"
      ]
     },
     "execution_count": 130,
     "metadata": {},
     "output_type": "execute_result"
    }
   ],
   "source": [
    "x = Input(shape=(3, 2))\n",
    "norm = LayerNormalization(axis=[1,2])\n",
    "encoded = norm(x)\n",
    "encoder = Model(x, encoded, name=\"encoder22\")\n",
    "encoder.summary()\n",
    "\n",
    "t = np.array([[1,2], [3,4], [5,6]]).reshape(1, 3, 2)\n",
    "r = encoder.predict(t)\n",
    "np.std(r)"
   ]
  },
  {
   "cell_type": "code",
   "execution_count": null,
   "metadata": {},
   "outputs": [],
   "source": []
  }
 ],
 "metadata": {
  "kernelspec": {
   "display_name": "Python 3",
   "language": "python",
   "name": "python3"
  },
  "language_info": {
   "codemirror_mode": {
    "name": "ipython",
    "version": 3
   },
   "file_extension": ".py",
   "mimetype": "text/x-python",
   "name": "python",
   "nbconvert_exporter": "python",
   "pygments_lexer": "ipython3",
   "version": "3.8.3"
  }
 },
 "nbformat": 4,
 "nbformat_minor": 2
}
